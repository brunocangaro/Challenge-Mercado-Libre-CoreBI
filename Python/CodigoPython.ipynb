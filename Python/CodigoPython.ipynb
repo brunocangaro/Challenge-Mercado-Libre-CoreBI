{
 "cells": [
  {
   "cell_type": "markdown",
   "id": "ac7759c4-2d6b-481a-826e-f4035d440c3b",
   "metadata": {},
   "source": [
    "<h1>Importación de Librerías<h1>\n"
   ]
  },
  {
   "cell_type": "code",
   "execution_count": 1,
   "id": "4f7416d1-4d2b-4be3-b93e-6adaa2379b98",
   "metadata": {},
   "outputs": [],
   "source": [
    "import requests\n",
    "import pandas as pd\n",
    "import matplotlib.pyplot as plt\n",
    "import seaborn as sns\n",
    "pd.set_option('display.max_columns', None)\n",
    "pd.set_option('display.max_rows', None)"
   ]
  },
  {
   "cell_type": "markdown",
   "id": "9fe12fc2-c6c3-4259-96bb-18e2606d6bc3",
   "metadata": {},
   "source": [
    "<h2>Nintendo Switch<h2>"
   ]
  },
  {
   "cell_type": "code",
   "execution_count": 2,
   "id": "90e9976d-83d8-41c4-91ba-98b1c539dcef",
   "metadata": {},
   "outputs": [],
   "source": [
    "df = pd.DataFrame(requests.get(\"https://api.mercadolibre.com/sites/MLA/search?q=Nintendo Switch&limit=50#json\").json()['results'])\n",
    "df['amount'] = df.installments.map(lambda x: x['amount'])\n",
    "df['rate'] = df.installments.map(lambda x: x['rate'])\n",
    "\n",
    "price_median_nintendoswitch = df.price.median()\n",
    "amount_median_nintendoswitch = df.amount.median()\n",
    "rate_median_nintendoswitch = df.rate.median()"
   ]
  },
  {
   "cell_type": "markdown",
   "id": "d83740f4-fba2-47ae-a4c3-cadb5eef3661",
   "metadata": {},
   "source": [
    "<h2>Play Station 5<h2>"
   ]
  },
  {
   "cell_type": "code",
   "execution_count": 3,
   "id": "0123ae3d-0435-40c0-88ff-876c24b88949",
   "metadata": {},
   "outputs": [],
   "source": [
    "df = pd.DataFrame(requests.get(\"https://api.mercadolibre.com/sites/MLA/search?q=Play Station 5&limit=50#json\").json()['results'])\n",
    "df['amount'] = df.installments.map(lambda x: x['amount'])\n",
    "df['rate'] = df.installments.map(lambda x: x['rate'])\n",
    "\n",
    "price_median_playstation5 = df.price.median()\n",
    "amount_median_playstation5 = df.amount.median()\n",
    "rate_median_playstation5 = df.rate.median()"
   ]
  },
  {
   "cell_type": "markdown",
   "id": "0eee1e85-27d1-4a0b-8f31-41ad8b65e37f",
   "metadata": {},
   "source": [
    "<h2>Xbox One S<h2>"
   ]
  },
  {
   "cell_type": "code",
   "execution_count": 4,
   "id": "90973d62-8bbb-4bad-b52b-a8f5022c5d61",
   "metadata": {},
   "outputs": [],
   "source": [
    "df = pd.DataFrame(requests.get(\"https://api.mercadolibre.com/sites/MLA/search?q=Xbox One S&limit=50#json\").json()['results'])\n",
    "df['amount'] = df.installments.map(lambda x: x['amount'])\n",
    "df['rate'] = df.installments.map(lambda x: x['rate'])\n",
    "\n",
    "price_median_xboxones = df.price.median()\n",
    "amount_median_xboxones = df.amount.median()\n",
    "rate_median_xboxones = df.rate.median()"
   ]
  },
  {
   "cell_type": "code",
   "execution_count": 5,
   "id": "c48ef3a9-4109-4938-8bcd-9a8da41f90d1",
   "metadata": {},
   "outputs": [],
   "source": [
    "serie_class = pd.Series(['Nintendo Switch','Play Station 5','Xbox One S'])\n",
    "serie_price_median = pd.Series([price_median_nintendoswitch,price_median_xboxones,price_median_playstation5])\n",
    "serie_amount_median = pd.Series([amount_median_nintendoswitch,amount_median_xboxones,amount_median_playstation5])\n",
    "serie_rate_median = pd.Series([rate_median_nintendoswitch,rate_median_xboxones,rate_median_playstation5])"
   ]
  },
  {
   "cell_type": "code",
   "execution_count": 6,
   "id": "60269162-5406-49c1-b8ac-e2619e574eee",
   "metadata": {},
   "outputs": [
    {
     "data": {
      "text/html": [
       "<div>\n",
       "<style scoped>\n",
       "    .dataframe tbody tr th:only-of-type {\n",
       "        vertical-align: middle;\n",
       "    }\n",
       "\n",
       "    .dataframe tbody tr th {\n",
       "        vertical-align: top;\n",
       "    }\n",
       "\n",
       "    .dataframe thead th {\n",
       "        text-align: right;\n",
       "    }\n",
       "</style>\n",
       "<table border=\"1\" class=\"dataframe\">\n",
       "  <thead>\n",
       "    <tr style=\"text-align: right;\">\n",
       "      <th></th>\n",
       "      <th>products</th>\n",
       "      <th>values</th>\n",
       "      <th>type</th>\n",
       "    </tr>\n",
       "  </thead>\n",
       "  <tbody>\n",
       "    <tr>\n",
       "      <th>0</th>\n",
       "      <td>Nintendo Switch</td>\n",
       "      <td>539999.5</td>\n",
       "      <td>price</td>\n",
       "    </tr>\n",
       "    <tr>\n",
       "      <th>1</th>\n",
       "      <td>Play Station 5</td>\n",
       "      <td>432500.0</td>\n",
       "      <td>price</td>\n",
       "    </tr>\n",
       "    <tr>\n",
       "      <th>2</th>\n",
       "      <td>Xbox One S</td>\n",
       "      <td>1199999.5</td>\n",
       "      <td>price</td>\n",
       "    </tr>\n",
       "  </tbody>\n",
       "</table>\n",
       "</div>"
      ],
      "text/plain": [
       "          products     values   type\n",
       "0  Nintendo Switch   539999.5  price\n",
       "1   Play Station 5   432500.0  price\n",
       "2       Xbox One S  1199999.5  price"
      ]
     },
     "execution_count": 6,
     "metadata": {},
     "output_type": "execute_result"
    }
   ],
   "source": [
    "df_price = pd.DataFrame({'products':serie_class,'values':serie_price_median})\n",
    "df_price['type'] = 'price'\n",
    "df_price"
   ]
  },
  {
   "cell_type": "code",
   "execution_count": 7,
   "id": "53ec285b-1321-4e9b-8513-2c6f25f2c07d",
   "metadata": {},
   "outputs": [
    {
     "data": {
      "text/html": [
       "<div>\n",
       "<style scoped>\n",
       "    .dataframe tbody tr th:only-of-type {\n",
       "        vertical-align: middle;\n",
       "    }\n",
       "\n",
       "    .dataframe tbody tr th {\n",
       "        vertical-align: top;\n",
       "    }\n",
       "\n",
       "    .dataframe thead th {\n",
       "        text-align: right;\n",
       "    }\n",
       "</style>\n",
       "<table border=\"1\" class=\"dataframe\">\n",
       "  <thead>\n",
       "    <tr style=\"text-align: right;\">\n",
       "      <th></th>\n",
       "      <th>products</th>\n",
       "      <th>values</th>\n",
       "      <th>type</th>\n",
       "    </tr>\n",
       "  </thead>\n",
       "  <tbody>\n",
       "    <tr>\n",
       "      <th>0</th>\n",
       "      <td>Nintendo Switch</td>\n",
       "      <td>105249.155</td>\n",
       "      <td>amount</td>\n",
       "    </tr>\n",
       "    <tr>\n",
       "      <th>1</th>\n",
       "      <td>Play Station 5</td>\n",
       "      <td>84645.000</td>\n",
       "      <td>amount</td>\n",
       "    </tr>\n",
       "    <tr>\n",
       "      <th>2</th>\n",
       "      <td>Xbox One S</td>\n",
       "      <td>227525.325</td>\n",
       "      <td>amount</td>\n",
       "    </tr>\n",
       "  </tbody>\n",
       "</table>\n",
       "</div>"
      ],
      "text/plain": [
       "          products      values    type\n",
       "0  Nintendo Switch  105249.155  amount\n",
       "1   Play Station 5   84645.000  amount\n",
       "2       Xbox One S  227525.325  amount"
      ]
     },
     "execution_count": 7,
     "metadata": {},
     "output_type": "execute_result"
    }
   ],
   "source": [
    "df_amount = pd.DataFrame({'products':serie_class,'values':serie_amount_median})\n",
    "df_amount['type'] = 'amount'\n",
    "df_amount"
   ]
  },
  {
   "cell_type": "markdown",
   "id": "8ffbb263-cceb-47b6-b533-8640a74590e8",
   "metadata": {},
   "source": [
    "Comparativa consolas"
   ]
  },
  {
   "cell_type": "code",
   "execution_count": 8,
   "id": "2992b45a-82a8-424d-b478-b700182a7e99",
   "metadata": {},
   "outputs": [
    {
     "data": {
      "text/plain": [
       "<seaborn.axisgrid.FacetGrid at 0x2b569dc3a50>"
      ]
     },
     "execution_count": 8,
     "metadata": {},
     "output_type": "execute_result"
    },
    {
     "data": {
      "image/png": "[encoded data removed]",
      "text/plain": [
       "<Figure size 603.625x500 with 1 Axes>"
      ]
     },
     "metadata": {},
     "output_type": "display_data"
    }
   ],
   "source": [
    "sns.catplot(x='products', y='values', hue='type', data=df_amount, kind='bar')"
   ]
  },
  {
   "cell_type": "code",
   "execution_count": 9,
   "id": "ffc1e783-37e3-4e0a-af5d-04539c74ddf2",
   "metadata": {},
   "outputs": [
    {
     "data": {
      "text/plain": [
       "<seaborn.axisgrid.FacetGrid at 0x2b569d6f510>"
      ]
     },
     "execution_count": 9,
     "metadata": {},
     "output_type": "execute_result"
    },
    {
     "data": {
      "image/png": "[encoded data removed]",
      "text/plain": [
       "<Figure size 584.625x500 with 1 Axes>"
      ]
     },
     "metadata": {},
     "output_type": "display_data"
    }
   ],
   "source": [
    "sns.catplot(x='products', y='values', hue='type', data=df_price, kind='bar', palette='Set2')\n"
   ]
  },
  {
   "cell_type": "markdown",
   "id": "e239fbcb-3ec1-4138-8838-d031c62fa9d3",
   "metadata": {},
   "source": [
    "2\n"
   ]
  },
  {
   "cell_type": "code",
   "execution_count": 15,
   "id": "3814edf1-54bc-46d2-99eb-6204c82cb90e",
   "metadata": {},
   "outputs": [],
   "source": [
    "df = pd.DataFrame(requests.get(\"https://api.mercadolibre.com/sites/MLA/search?q=Nintendo Switch&limit=50#json\").json()['results'])\n",
    "df['amount'] = df.installments.map(lambda x: x['amount']) \n",
    "df['rate'] = df.installments.map(lambda x: x['rate'])"
   ]
  },
  {
   "cell_type": "code",
   "execution_count": 16,
   "id": "a6d3b995-d627-47ee-924c-20bb12f666df",
   "metadata": {},
   "outputs": [
    {
     "name": "stdout",
     "output_type": "stream",
     "text": [
      "0\n",
      "1\n",
      "2\n",
      "3\n",
      "4\n",
      "5\n",
      "6\n",
      "7\n",
      "8\n",
      "9\n",
      "10\n",
      "11\n",
      "12\n",
      "13\n",
      "14\n",
      "15\n",
      "16\n",
      "17\n",
      "18\n",
      "19\n",
      "20\n",
      "21\n",
      "22\n",
      "23\n",
      "24\n",
      "25\n",
      "26\n",
      "27\n",
      "28\n",
      "29\n",
      "30\n",
      "31\n",
      "32\n",
      "33\n",
      "34\n",
      "35\n",
      "36\n",
      "37\n",
      "38\n",
      "39\n",
      "40\n",
      "41\n",
      "42\n",
      "43\n",
      "44\n",
      "45\n",
      "46\n",
      "47\n"
     ]
    }
   ],
   "source": [
    "for indx, i in enumerate(df['id']):\n",
    "    print(indx)\n",
    "    if indx==0:\n",
    "        json_get = requests.get(\"https://api.mercadolibre.com/items/\"+i).json()\n",
    "        df = pd.DataFrame(requests.get(\"https://api.mercadolibre.com/items/\"+i).json()['sale_terms'])\n",
    "        df['id'] = json_get['id']\n",
    "        df['title'] = json_get['title']\n",
    "        df['condition'] = json_get['condition']\n",
    "        df['thumbnail_id'] = json_get['thumbnail_id']\n",
    "        df['catalog_product_id'] = json_get['catalog_product_id']\n",
    "        df['listing_type_id'] = json_get['listing_type_id']\n",
    "        df['permalink'] = json_get['permalink']\n",
    "        df['buying_mode'] = json_get['buying_mode']\n",
    "        \n",
    "        \n",
    "     \n",
    "    else:\n",
    "        json_get = requests.get(\"https://api.mercadolibre.com/items/\"+i).json()\n",
    "        df_aux = pd.DataFrame(requests.get(\"https://api.mercadolibre.com/items/\"+i).json()['sale_terms'])\n",
    "     \n",
    "        df = pd.concat([df,df_aux],axis=0)"
   ]
  },
  {
   "cell_type": "code",
   "execution_count": 33,
   "id": "7c5eb0eb-ad0e-46a0-9c7a-e79fb5338f8c",
   "metadata": {},
   "outputs": [
    {
     "name": "stdout",
     "output_type": "stream",
     "text": [
      "Los datos de Nintendo Switch se han escrito correctamente en el archivo 'resultados_nintendo_switch.csv'.\n",
      "Los datos de PlayStation 5 se han escrito correctamente en el archivo 'resultados_playstation_5.csv'.\n",
      "Los datos de Xbox One S se han escrito correctamente en el archivo 'resultados_xbox_one_s.csv'.\n"
     ]
    }
   ],
   "source": [
    "import csv\n",
    "import requests\n",
    "\n",
    "# Realizar la solicitud GET para obtener el JSON de Nintendo Switch\n",
    "response_switch = requests.get(\"https://api.mercadolibre.com/sites/MLA/search?q=Nintendo%20Switch&limit=50\")\n",
    "data_switch = response_switch.json()\n",
    "\n",
    "# Realizar la solicitud GET para obtener el JSON de PlayStation 5\n",
    "response_ps5 = requests.get(\"https://api.mercadolibre.com/sites/MLA/search?q=PlayStation%205&limit=50\")\n",
    "data_ps5 = response_ps5.json()\n",
    "\n",
    "# Realizar la solicitud GET para obtener el JSON de Xbox One S\n",
    "response_xbox = requests.get(\"https://api.mercadolibre.com/sites/MLA/search?q=Xbox%20One%20S&limit=50\")\n",
    "data_xbox = response_xbox.json()\n",
    "\n",
    "# Verificar si la solicitud de Nintendo Switch fue exitosa\n",
    "if response_switch.status_code == 200:\n",
    "    fields = ['id', 'title', 'price','thumbnail_id','catalog_product_id','listing_type_id','permalink','buying_mode']\n",
    "    with open('resultados_nintendo_switch.csv', 'w', newline='', encoding='utf-8') as csvfile:\n",
    "        writer = csv.DictWriter(csvfile, fieldnames=fields)\n",
    "        writer.writeheader()\n",
    "        for item in data_switch['results']:\n",
    "            row = {}\n",
    "            row['id'] = item['id']\n",
    "            row['title'] = item['title']\n",
    "            row['price'] = item['price']\n",
    "            row['thumbnail_id'] = item['thumbnail_id']\n",
    "            row['catalog_product_id'] = item['catalog_product_id']\n",
    "            row['listing_type_id'] = item['listing_type_id']\n",
    "            row['permalink'] = item['permalink']\n",
    "            row['buying_mode'] = item['buying_mode']\n",
    "            writer.writerow(row)\n",
    "    print(\"Los datos de Nintendo Switch se han escrito correctamente en el archivo 'resultados_nintendo_switch.csv'.\")\n",
    "else:\n",
    "    print(\"Error al realizar la solicitud GET de Nintendo Switch:\", response_switch.status_code)\n",
    "\n",
    "# Verificar si la solicitud de PlayStation 5 fue exitosa\n",
    "if response_ps5.status_code == 200:\n",
    "    fields = ['id', 'title', 'price','thumbnail_id','catalog_product_id','listing_type_id','permalink','buying_mode']\n",
    "    with open('resultados_playstation_5.csv', 'w', newline='', encoding='utf-8') as csvfile:\n",
    "        writer = csv.DictWriter(csvfile, fieldnames=fields)\n",
    "        writer.writeheader()\n",
    "        for item in data_ps5['results']:\n",
    "            row = {}\n",
    "            row['id'] = item['id']\n",
    "            row['title'] = item['title']\n",
    "            row['price'] = item['price']\n",
    "            row['thumbnail_id'] = item['thumbnail_id']\n",
    "            row['catalog_product_id'] = item['catalog_product_id']\n",
    "            row['listing_type_id'] = item['listing_type_id']\n",
    "            row['permalink'] = item['permalink']\n",
    "            row['buying_mode'] = item['buying_mode']\n",
    "            writer.writerow(row)\n",
    "    print(\"Los datos de PlayStation 5 se han escrito correctamente en el archivo 'resultados_playstation_5.csv'.\")\n",
    "else:\n",
    "    print(\"Error al realizar la solicitud GET de PlayStation 5:\", response_ps5.status_code)\n",
    "\n",
    "# Verificar si la solicitud de Xbox One S fue exitosa\n",
    "if response_xbox.status_code == 200:\n",
    "    fields = ['id', 'title', 'price','thumbnail_id','catalog_product_id','listing_type_id','permalink','buying_mode']\n",
    "    with open('resultados_xbox_one_s.csv', 'w', newline='', encoding='utf-8') as csvfile:\n",
    "        writer = csv.DictWriter(csvfile, fieldnames=fields)\n",
    "        writer.writeheader()\n",
    "        for item in data_xbox['results']:\n",
    "            row = {}\n",
    "            row['id'] = item['id']\n",
    "            row['title'] = item['title']\n",
    "            row['price'] = item['price']\n",
    "            row['thumbnail_id'] = item['thumbnail_id']\n",
    "            row['catalog_product_id'] = item['catalog_product_id']\n",
    "            row['listing_type_id'] = item['listing_type_id']\n",
    "            row['permalink'] = item['permalink']\n",
    "            row['buying_mode'] = item['buying_mode']\n",
    "            writer.writerow(row)\n",
    "    print(\"Los datos de Xbox One S se han escrito correctamente en el archivo 'resultados_xbox_one_s.csv'.\")\n",
    "else:\n",
    "    print(\"Error al realizar la solicitud GET de Xbox One S:\", response_xbox.status_code)"
   ]
  }
 ],
 "metadata": {
  "kernelspec": {
   "display_name": "Python 3 (ipykernel)",
   "language": "python",
   "name": "python3"
  },
  "language_info": {
   "codemirror_mode": {
    "name": "ipython",
    "version": 3
   },
   "file_extension": ".py",
   "mimetype": "text/x-python",
   "name": "python",
   "nbconvert_exporter": "python",
   "pygments_lexer": "ipython3",
   "version": "3.11.7"
  }
 },
 "nbformat": 4,
 "nbformat_minor": 5
}
